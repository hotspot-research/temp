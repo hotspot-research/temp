{
 "cells": [
  {
   "cell_type": "code",
   "execution_count": 1,
   "metadata": {},
   "outputs": [],
   "source": [
    "import pandas as pd, numpy as np\n",
    "import os, json\n",
    "\n",
    "data_path = ['..', 'data', 'raw']"
   ]
  },
  {
   "cell_type": "markdown",
   "metadata": {},
   "source": [
    "# Data preparation\n",
    "- calculating variables\n",
    "- reformatting columns"
   ]
  },
  {
   "cell_type": "code",
   "execution_count": 2,
   "metadata": {},
   "outputs": [],
   "source": [
    "# load results\n",
    "respondents = pd.read_csv(os.path.join(*data_path, 'respondents.csv'), index_col=0)\n",
    "results = pd.read_csv(os.path.join(*data_path, 'results.csv'), index_col=0)\n",
    "interactions = pd.read_csv(os.path.join(*data_path, 'interactions.csv'), index_col=0)"
   ]
  },
  {
   "cell_type": "markdown",
   "metadata": {},
   "source": [
    "## Respondents data"
   ]
  },
  {
   "cell_type": "code",
   "execution_count": 3,
   "metadata": {},
   "outputs": [],
   "source": [
    "# calculate umux score\n",
    "for index, row in respondents.iterrows():\n",
    "    score = (12 + row.umux1 + row.umux3 - row.umux2 - row.umux4) / 24 * 100\n",
    "    respondents.loc[index, 'umux'] = score\n",
    "\n",
    "respondents.umux = respondents.umux.round(2)"
   ]
  },
  {
   "cell_type": "code",
   "execution_count": 4,
   "metadata": {},
   "outputs": [],
   "source": [
    "# format time\n",
    "respondents.time = respondents.time.apply(lambda x: int(x.split(':')[0])*60 + int(x.split(':')[1]) + int(x.split(':')[2]) / 60)\n",
    "respondents.time = respondents.time.round(2)"
   ]
  },
  {
   "cell_type": "code",
   "execution_count": 5,
   "metadata": {},
   "outputs": [],
   "source": [
    "# reformat the hotspot options variable\n",
    "respondents.hotspotOptions = respondents.hotspotOptions.apply(\n",
    "    lambda x: ', '.join(list(map(lambda y: \n",
    "                       'noticed' if y=='I have noticed the blue flashing areas.' \n",
    "                       else 'helped' if y=='The blue flashing areas helped me complete the task more easily.'\n",
    "                       else 'used' if y=='I sometimes deliberately clicked unrelated areas of the screen to make the blue flashing areas appear.'\n",
    "                       else 'distracted' if y=='The blue flashing areas distracted me while navigating the prototype.'\n",
    "                       else 'sped-up' if y=='The blue areas flash too quickly.'\n",
    "                       else 'none-above' if y=='None of the above.'\n",
    "                       else 'non-answer',\n",
    "                       x.split(', '))))\n",
    "    if not pd.isnull(x) else None\n",
    ")\n",
    "respondents.loc[(respondents.respondent==15) & (respondents.variant=='non-interactive'), 'hotspotOptions'] = respondents[respondents.variant=='non-interactive'].groupby(['hotspotOptions']).size().sort_values(ascending=False).index[0]"
   ]
  },
  {
   "cell_type": "code",
   "execution_count": 6,
   "metadata": {},
   "outputs": [],
   "source": [
    "# count the spam clicks and hotspot helps\n",
    "for index, row in respondents[respondents.variant=='non-interactive'].iterrows():\n",
    "    spam = respondents.loc[index, 'spamClicks']\n",
    "    hotspotHelp = respondents.loc[index, 'hotspotHelp']\n",
    "    respondents.loc[index, 'spamCount'] = len(spam.split(', ')) if not pd.isnull(spam) else 0\n",
    "    respondents.loc[index, 'helpOccurences'] = len(hotspotHelp.split(', ')) if not pd.isnull(hotspotHelp) else 0"
   ]
  },
  {
   "cell_type": "code",
   "execution_count": 7,
   "metadata": {},
   "outputs": [],
   "source": [
    "# drop umux columns\n",
    "respondents.drop(labels=[\"umux1\", \"umux2\", \"umux3\", \"umux4\"], inplace=True, axis=1)"
   ]
  },
  {
   "cell_type": "markdown",
   "metadata": {},
   "source": [
    "## Interaction data"
   ]
  },
  {
   "cell_type": "code",
   "execution_count": 8,
   "metadata": {},
   "outputs": [],
   "source": [
    "# assign interaction ids\n",
    "interactions['id'] = range(1, len(interactions.index)+1)"
   ]
  },
  {
   "cell_type": "code",
   "execution_count": 9,
   "metadata": {},
   "outputs": [],
   "source": [
    "# calculate first clicks and last clicks\n",
    "interactions['first'], interactions['last'] = [False, False]\n",
    "ids_first = []\n",
    "ids_last = []\n",
    "\n",
    "for index, group in interactions.groupby(['variant', 'respondent', 'task', 'screen']):\n",
    "    ids_first.append(group.sort_values(['order']).iloc[0,:].id)\n",
    "    ids_last.append(group.sort_values(['order']).iloc[len(group)-1,:].id)\n",
    "\n",
    "interactions.loc[interactions.id.isin(ids_first), 'first'] = True\n",
    "interactions.loc[interactions.id.isin(ids_last), 'last'] = True"
   ]
  },
  {
   "cell_type": "markdown",
   "metadata": {},
   "source": [
    "## Result data"
   ]
  },
  {
   "cell_type": "code",
   "execution_count": 10,
   "metadata": {},
   "outputs": [],
   "source": [
    "# reformat the success variable\n",
    "results.success = results.success.apply(lambda x: True if x==1 else False)"
   ]
  },
  {
   "cell_type": "code",
   "execution_count": 11,
   "metadata": {},
   "outputs": [],
   "source": [
    "# prototype screens\n",
    "all = []\n",
    "\n",
    "for index, row in results.iterrows():\n",
    "    path = row.rawPath.split(' > ')\n",
    "    all.append(list(map(lambda x: x[0:x.index(\" \") if \" \" in x else len(x)], path)))\n",
    "\n",
    "screens = set(np.hstack(all))"
   ]
  },
  {
   "cell_type": "code",
   "execution_count": 12,
   "metadata": {},
   "outputs": [],
   "source": [
    "# calculate path lengths and clean the paths\n",
    "# also calculate issue counts, click counts\n",
    "\n",
    "for index, row in results.iterrows():\n",
    "    path = list(filter(lambda x: x in screens, row.rawPath.split(' ')))\n",
    "\n",
    "    results.loc[index, 'path'] = ' > '.join(path)\n",
    "    results.loc[index, 'pathLength'] = len(path)\n",
    "\n",
    "    results.loc[index, 'issuesCount'] = len(list(filter(lambda x: x not in (\"ok\", \"skip\"), \n",
    "                                                        results.loc[index, 'issues'].split(', ') if not pd.isnull(results.loc[index, 'issues']) else []) ))\n",
    "    results.loc[index, 'issuesReported'] = not pd.isnull(results.loc[index, 'issues']) and results.loc[index, 'issues'] not in (\"ok\", \"skip\")\n",
    "\n",
    "    results.loc[index, 'clicks'] = interactions[\n",
    "        (interactions.variant==row.variant) &\n",
    "        (interactions.respondent==row.respondent) &\n",
    "        (interactions.task==row.task)\n",
    "    ].shape[0]\n",
    "\n",
    "    non_dead = 0\n",
    "    \n",
    "    for item in json.loads(interactions[\n",
    "        (interactions.variant==row.variant) &\n",
    "        (interactions.respondent==row.respondent) &\n",
    "        (interactions.task==row.task)\n",
    "    ].path.values[0]):\n",
    "        if('c' in item or 'h' in item):\n",
    "            if('i' in item):\n",
    "                non_dead += len(item['i'])\n",
    "            else:\n",
    "                non_dead += 1\n",
    "    \n",
    "    results.loc[index, 'deadClicks'] = results.loc[index, 'clicks'] - non_dead"
   ]
  },
  {
   "cell_type": "code",
   "execution_count": 13,
   "metadata": {},
   "outputs": [],
   "source": [
    "# remove path column\n",
    "interactions = interactions.loc[:, interactions.columns != 'path']"
   ]
  },
  {
   "cell_type": "markdown",
   "metadata": {},
   "source": [
    "## Funnel data"
   ]
  },
  {
   "cell_type": "code",
   "execution_count": 14,
   "metadata": {},
   "outputs": [],
   "source": [
    "tempFunnels = {\n",
    "    \"interactive\": {\"task1\": {}, \"task2\": {}, \"task3\": {}},\n",
    "    \"non-interactive\": {\"task1\": {}, \"task2\": {}, \"task3\": {}}\n",
    "}\n",
    "\n",
    "allScreens = []\n",
    "\n",
    "# calculate funnels\n",
    "for variant in [\"interactive\", \"non-interactive\"]:\n",
    "    for task, taskName in [(1, \"task1\"), (2, \"task2\"), (3, \"task3\")]:\n",
    "        temp = results[(results.variant == variant) & (results.task == task)]\n",
    "        for index, row in temp.iterrows():\n",
    "            path = list(filter(lambda x: not x.startswith('BEGIN'), row.path.split(' > ')))\n",
    "            path = list(map(lambda x: x.split(\"/\")[0] if not x.startswith('PROFILE') else x.split(\"-\")[0], path))\n",
    "            allScreens += path\n",
    "            for jndex, item in enumerate(path):\n",
    "                if item not in tempFunnels[variant][taskName]:\n",
    "                    tempFunnels[variant][taskName][item] = {}\n",
    "                if len(path) > jndex+1:\n",
    "                    if path[jndex+1] not in tempFunnels[variant][taskName][item]:\n",
    "                        tempFunnels[variant][taskName][item][path[jndex+1]] = 1\n",
    "                    else:\n",
    "                        tempFunnels[variant][taskName][item][path[jndex+1]] += 1"
   ]
  },
  {
   "cell_type": "code",
   "execution_count": 15,
   "metadata": {},
   "outputs": [],
   "source": [
    "# save funnels into dataframe\n",
    "allScreens = set(allScreens)\n",
    "funnels = pd.DataFrame(columns=[\"task\", \"screen\", \"nextScreen\", \"interactive\", \"nonInteractive\"])\n",
    "\n",
    "for task, taskName in [(1, \"task1\"), (2, \"task2\"), (3, \"task3\")]:\n",
    "    for screen in allScreens:\n",
    "        for nextScreen in allScreens:\n",
    "            funnels.loc[len(funnels.index)] = [\n",
    "                task, screen, nextScreen, \n",
    "                tempFunnels[\"interactive\"][taskName][screen][nextScreen] if (\n",
    "                    screen in tempFunnels[\"interactive\"][taskName] and nextScreen in tempFunnels[\"interactive\"][taskName][screen]\n",
    "                ) else 0,\n",
    "                tempFunnels[\"non-interactive\"][taskName][screen][nextScreen] if (\n",
    "                    screen in tempFunnels[\"non-interactive\"][taskName] and nextScreen in tempFunnels[\"non-interactive\"][taskName][screen]\n",
    "                ) else 0\n",
    "            ] "
   ]
  },
  {
   "cell_type": "code",
   "execution_count": 16,
   "metadata": {},
   "outputs": [],
   "source": [
    "# calculate differences and sums\n",
    "funnels = funnels[(funnels.interactive != 0) | (funnels.nonInteractive != 0)].reset_index(drop=True)\n",
    "funnels['diff'] = np.abs(funnels['interactive'] - funnels['nonInteractive'])\n",
    "funnels['sum'] = funnels['interactive'] + funnels['nonInteractive']\n",
    "funnels = funnels.sort_values(by=[\"task\", \"screen\", \"nextScreen\"])\n",
    "funnels = funnels.reset_index(drop=True)"
   ]
  },
  {
   "cell_type": "markdown",
   "metadata": {},
   "source": [
    "# Export"
   ]
  },
  {
   "cell_type": "code",
   "execution_count": 17,
   "metadata": {},
   "outputs": [],
   "source": [
    "# export\n",
    "respondents.to_csv(os.path.join('..', 'data', 'respondents.csv'))\n",
    "results.to_csv(os.path.join('..', 'data', 'results.csv'))\n",
    "interactions.to_csv(os.path.join('..', 'data', 'interactions.csv'))\n",
    "funnels.to_csv(os.path.join('..', 'data', 'funnels.csv'))"
   ]
  }
 ],
 "metadata": {
  "kernelspec": {
   "display_name": ".venv",
   "language": "python",
   "name": "python3"
  },
  "language_info": {
   "codemirror_mode": {
    "name": "ipython",
    "version": 3
   },
   "file_extension": ".py",
   "mimetype": "text/x-python",
   "name": "python",
   "nbconvert_exporter": "python",
   "pygments_lexer": "ipython3",
   "version": "3.12.1"
  }
 },
 "nbformat": 4,
 "nbformat_minor": 2
}
